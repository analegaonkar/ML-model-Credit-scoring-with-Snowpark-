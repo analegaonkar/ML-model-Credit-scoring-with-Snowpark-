{
 "cells": [
  {
   "cell_type": "code",
   "execution_count": 16,
   "metadata": {},
   "outputs": [
    {
     "name": "stdout",
     "output_type": "stream",
     "text": [
      "[Row(CURRENT_WAREHOUSE()='DEV_WH', CURRENT_DATABASE()='CREDIT_BANK', CURRENT_SCHEMA()='PUBLIC', CURRENT_USER()='ARTI6076', CURRENT_ROLE()='ACCOUNTADMIN')]\n"
     ]
    }
   ],
   "source": [
    "import json\n",
    "import pandas as pd\n",
    "from snowflake.snowpark import *\n",
    "from snowflake.snowpark import version\n",
    "from snowflake.snowpark.functions import *\n",
    "\n",
    "connection_parameters = json.load(open('connection.json'))\n",
    "session = Session.builder.configs(connection_parameters).create()\n",
    "\n",
    "session.sql(\"create or replace database credit_bank\").collect()\n",
    "session.sql(\"use schema credit_bank.public\").collect()\n",
    "print(session.sql(\"select current_warehouse(), current_database(), current_schema(), current_user(), current_role()\").collect())"
   ]
  },
  {
   "cell_type": "code",
   "execution_count": 17,
   "metadata": {},
   "outputs": [
    {
     "name": "stderr",
     "output_type": "stream",
     "text": [
      "c:\\Users\\Arti\\AppData\\Local\\Programs\\Python\\Python311\\Lib\\site-packages\\snowflake\\connector\\pandas_tools.py:300: FutureWarning: is_datetime64tz_dtype is deprecated and will be removed in a future version. Check `isinstance(dtype, pd.DatetimeTZDtype)` instead.\n",
      "  [pandas.api.types.is_datetime64tz_dtype(df[c]) for c in df.columns]\n"
     ]
    },
    {
     "data": {
      "text/plain": [
       "<snowflake.snowpark.table.Table at 0x1b4a6beb2d0>"
      ]
     },
     "execution_count": 17,
     "metadata": {},
     "output_type": "execute_result"
    }
   ],
   "source": [
    "credit_files = pd.read_csv(r'C:\\Users\\Arti\\Documents\\GitHub\\ML-model-Credit-scoring-with-Snowpark-\\input files\\credit_files.csv')\n",
    "session.write_pandas(credit_files,\"CREDIT_FILES\",auto_create_table='True')"
   ]
  },
  {
   "cell_type": "code",
   "execution_count": 18,
   "metadata": {},
   "outputs": [
    {
     "data": {
      "text/plain": [
       "StructType([StructField('CREDIT_REQUEST_ID', LongType(), nullable=True), StructField('CREDIT_AMOUNT', LongType(), nullable=True), StructField('CREDIT_DURATION', LongType(), nullable=True), StructField('PURPOSE', StringType(16777216), nullable=True), StructField('INSTALLMENT_COMMITMENT', LongType(), nullable=True), StructField('OTHER_PARTIES', StringType(16777216), nullable=True), StructField('CREDIT_STANDING', StringType(16777216), nullable=True), StructField('CREDIT_SCORE', LongType(), nullable=True), StructField('CHECKING_BALANCE', DoubleType(), nullable=True), StructField('SAVINGS_BALANCE', DoubleType(), nullable=True), StructField('EXISTING_CREDITS', LongType(), nullable=True), StructField('ASSETS', StringType(16777216), nullable=True), StructField('HOUSING', StringType(16777216), nullable=True), StructField('QUALIFICATION', StringType(16777216), nullable=True), StructField('JOB_HISTORY', LongType(), nullable=True), StructField('AGE', LongType(), nullable=True), StructField('SEX', StringType(16777216), nullable=True), StructField('MARITAL_STATUS', StringType(16777216), nullable=True), StructField('NUM_DEPENDENTS', LongType(), nullable=True), StructField('RESIDENCE_SINCE', LongType(), nullable=True), StructField('OTHER_PAYMENT_PLANS', StringType(16777216), nullable=True)])"
      ]
     },
     "execution_count": 18,
     "metadata": {},
     "output_type": "execute_result"
    }
   ],
   "source": [
    "credit_df = session.table(\"CREDIT_FILES\")\n",
    "credit_df.schema"
   ]
  },
  {
   "cell_type": "code",
   "execution_count": 19,
   "metadata": {},
   "outputs": [
    {
     "data": {
      "text/html": [
       "<div>\n",
       "<style scoped>\n",
       "    .dataframe tbody tr th:only-of-type {\n",
       "        vertical-align: middle;\n",
       "    }\n",
       "\n",
       "    .dataframe tbody tr th {\n",
       "        vertical-align: top;\n",
       "    }\n",
       "\n",
       "    .dataframe thead th {\n",
       "        text-align: right;\n",
       "    }\n",
       "</style>\n",
       "<table border=\"1\" class=\"dataframe\">\n",
       "  <thead>\n",
       "    <tr style=\"text-align: right;\">\n",
       "      <th></th>\n",
       "      <th>CREDIT_REQUEST_ID</th>\n",
       "      <th>CREDIT_AMOUNT</th>\n",
       "      <th>CREDIT_DURATION</th>\n",
       "      <th>PURPOSE</th>\n",
       "      <th>INSTALLMENT_COMMITMENT</th>\n",
       "      <th>OTHER_PARTIES</th>\n",
       "      <th>CREDIT_STANDING</th>\n",
       "      <th>CREDIT_SCORE</th>\n",
       "      <th>CHECKING_BALANCE</th>\n",
       "      <th>SAVINGS_BALANCE</th>\n",
       "      <th>...</th>\n",
       "      <th>ASSETS</th>\n",
       "      <th>HOUSING</th>\n",
       "      <th>QUALIFICATION</th>\n",
       "      <th>JOB_HISTORY</th>\n",
       "      <th>AGE</th>\n",
       "      <th>SEX</th>\n",
       "      <th>MARITAL_STATUS</th>\n",
       "      <th>NUM_DEPENDENTS</th>\n",
       "      <th>RESIDENCE_SINCE</th>\n",
       "      <th>OTHER_PAYMENT_PLANS</th>\n",
       "    </tr>\n",
       "  </thead>\n",
       "  <tbody>\n",
       "    <tr>\n",
       "      <th>0</th>\n",
       "      <td>147</td>\n",
       "      <td>8600</td>\n",
       "      <td>6</td>\n",
       "      <td>Vehicle</td>\n",
       "      <td>1</td>\n",
       "      <td>None</td>\n",
       "      <td>good</td>\n",
       "      <td>466</td>\n",
       "      <td>-728.12</td>\n",
       "      <td>17.0</td>\n",
       "      <td>...</td>\n",
       "      <td>None</td>\n",
       "      <td>own</td>\n",
       "      <td>skilled</td>\n",
       "      <td>15</td>\n",
       "      <td>39</td>\n",
       "      <td>F</td>\n",
       "      <td>Married</td>\n",
       "      <td>1</td>\n",
       "      <td>4</td>\n",
       "      <td>none</td>\n",
       "    </tr>\n",
       "    <tr>\n",
       "      <th>1</th>\n",
       "      <td>248</td>\n",
       "      <td>12040</td>\n",
       "      <td>6</td>\n",
       "      <td>Vehicle</td>\n",
       "      <td>4</td>\n",
       "      <td>None</td>\n",
       "      <td>good</td>\n",
       "      <td>202</td>\n",
       "      <td>0.00</td>\n",
       "      <td>2443.0</td>\n",
       "      <td>...</td>\n",
       "      <td>None</td>\n",
       "      <td>rent</td>\n",
       "      <td>skilled</td>\n",
       "      <td>1</td>\n",
       "      <td>35</td>\n",
       "      <td>M</td>\n",
       "      <td>Single</td>\n",
       "      <td>1</td>\n",
       "      <td>1</td>\n",
       "      <td>bank</td>\n",
       "    </tr>\n",
       "    <tr>\n",
       "      <th>2</th>\n",
       "      <td>112</td>\n",
       "      <td>3920</td>\n",
       "      <td>15</td>\n",
       "      <td>Tuition</td>\n",
       "      <td>4</td>\n",
       "      <td>None</td>\n",
       "      <td>good</td>\n",
       "      <td>736</td>\n",
       "      <td>4696.00</td>\n",
       "      <td>143.0</td>\n",
       "      <td>...</td>\n",
       "      <td>Investments</td>\n",
       "      <td>rent</td>\n",
       "      <td>skilled</td>\n",
       "      <td>1</td>\n",
       "      <td>23</td>\n",
       "      <td>F</td>\n",
       "      <td>Married</td>\n",
       "      <td>1</td>\n",
       "      <td>4</td>\n",
       "      <td>none</td>\n",
       "    </tr>\n",
       "    <tr>\n",
       "      <th>3</th>\n",
       "      <td>222</td>\n",
       "      <td>12000</td>\n",
       "      <td>12</td>\n",
       "      <td>Tuition</td>\n",
       "      <td>4</td>\n",
       "      <td>None</td>\n",
       "      <td>good</td>\n",
       "      <td>732</td>\n",
       "      <td>-25.35</td>\n",
       "      <td>0.0</td>\n",
       "      <td>...</td>\n",
       "      <td>Investments</td>\n",
       "      <td>rent</td>\n",
       "      <td>skilled</td>\n",
       "      <td>3</td>\n",
       "      <td>23</td>\n",
       "      <td>F</td>\n",
       "      <td>Married</td>\n",
       "      <td>1</td>\n",
       "      <td>4</td>\n",
       "      <td>bank</td>\n",
       "    </tr>\n",
       "    <tr>\n",
       "      <th>4</th>\n",
       "      <td>162</td>\n",
       "      <td>10550</td>\n",
       "      <td>18</td>\n",
       "      <td>Vehicle</td>\n",
       "      <td>4</td>\n",
       "      <td>None</td>\n",
       "      <td>good</td>\n",
       "      <td>507</td>\n",
       "      <td>0.00</td>\n",
       "      <td>510.0</td>\n",
       "      <td>...</td>\n",
       "      <td>Investments</td>\n",
       "      <td>own</td>\n",
       "      <td>skilled</td>\n",
       "      <td>1</td>\n",
       "      <td>30</td>\n",
       "      <td>F</td>\n",
       "      <td>Married</td>\n",
       "      <td>1</td>\n",
       "      <td>1</td>\n",
       "      <td>none</td>\n",
       "    </tr>\n",
       "  </tbody>\n",
       "</table>\n",
       "<p>5 rows × 21 columns</p>\n",
       "</div>"
      ],
      "text/plain": [
       "   CREDIT_REQUEST_ID  CREDIT_AMOUNT  CREDIT_DURATION  PURPOSE  \\\n",
       "0                147           8600                6  Vehicle   \n",
       "1                248          12040                6  Vehicle   \n",
       "2                112           3920               15  Tuition   \n",
       "3                222          12000               12  Tuition   \n",
       "4                162          10550               18  Vehicle   \n",
       "\n",
       "   INSTALLMENT_COMMITMENT OTHER_PARTIES CREDIT_STANDING  CREDIT_SCORE  \\\n",
       "0                       1          None            good           466   \n",
       "1                       4          None            good           202   \n",
       "2                       4          None            good           736   \n",
       "3                       4          None            good           732   \n",
       "4                       4          None            good           507   \n",
       "\n",
       "   CHECKING_BALANCE  SAVINGS_BALANCE  ...       ASSETS HOUSING QUALIFICATION  \\\n",
       "0           -728.12             17.0  ...         None     own       skilled   \n",
       "1              0.00           2443.0  ...         None    rent       skilled   \n",
       "2           4696.00            143.0  ...  Investments    rent       skilled   \n",
       "3            -25.35              0.0  ...  Investments    rent       skilled   \n",
       "4              0.00            510.0  ...  Investments     own       skilled   \n",
       "\n",
       "  JOB_HISTORY  AGE  SEX MARITAL_STATUS NUM_DEPENDENTS  RESIDENCE_SINCE  \\\n",
       "0          15   39    F        Married              1                4   \n",
       "1           1   35    M         Single              1                1   \n",
       "2           1   23    F        Married              1                4   \n",
       "3           3   23    F        Married              1                4   \n",
       "4           1   30    F        Married              1                1   \n",
       "\n",
       "   OTHER_PAYMENT_PLANS  \n",
       "0                 none  \n",
       "1                 bank  \n",
       "2                 none  \n",
       "3                 bank  \n",
       "4                 none  \n",
       "\n",
       "[5 rows x 21 columns]"
      ]
     },
     "execution_count": 19,
     "metadata": {},
     "output_type": "execute_result"
    }
   ],
   "source": [
    "credit_df.toPandas().head()"
   ]
  },
  {
   "cell_type": "code",
   "execution_count": 20,
   "metadata": {},
   "outputs": [
    {
     "name": "stdout",
     "output_type": "stream",
     "text": [
      "<class 'pandas.core.frame.DataFrame'>\n",
      "RangeIndex: 2940 entries, 0 to 2939\n",
      "Data columns (total 21 columns):\n",
      " #   Column                  Non-Null Count  Dtype  \n",
      "---  ------                  --------------  -----  \n",
      " 0   CREDIT_REQUEST_ID       2940 non-null   int16  \n",
      " 1   CREDIT_AMOUNT           2940 non-null   int32  \n",
      " 2   CREDIT_DURATION         2940 non-null   int8   \n",
      " 3   PURPOSE                 2940 non-null   object \n",
      " 4   INSTALLMENT_COMMITMENT  2940 non-null   int8   \n",
      " 5   OTHER_PARTIES           271 non-null    object \n",
      " 6   CREDIT_STANDING         2940 non-null   object \n",
      " 7   CREDIT_SCORE            2940 non-null   int16  \n",
      " 8   CHECKING_BALANCE        2940 non-null   float64\n",
      " 9   SAVINGS_BALANCE         2940 non-null   float64\n",
      " 10  EXISTING_CREDITS        2940 non-null   int8   \n",
      " 11  ASSETS                  2489 non-null   object \n",
      " 12  HOUSING                 2940 non-null   object \n",
      " 13  QUALIFICATION           2940 non-null   object \n",
      " 14  JOB_HISTORY             2940 non-null   int8   \n",
      " 15  AGE                     2940 non-null   int8   \n",
      " 16  SEX                     2940 non-null   object \n",
      " 17  MARITAL_STATUS          2940 non-null   object \n",
      " 18  NUM_DEPENDENTS          2940 non-null   int8   \n",
      " 19  RESIDENCE_SINCE         2940 non-null   int8   \n",
      " 20  OTHER_PAYMENT_PLANS     2940 non-null   object \n",
      "dtypes: float64(2), int16(2), int32(1), int8(7), object(9)\n",
      "memory usage: 295.9+ KB\n"
     ]
    }
   ],
   "source": [
    "credit_df.toPandas().info()"
   ]
  },
  {
   "cell_type": "code",
   "execution_count": 21,
   "metadata": {},
   "outputs": [
    {
     "name": "stderr",
     "output_type": "stream",
     "text": [
      "c:\\Users\\Arti\\AppData\\Local\\Programs\\Python\\Python311\\Lib\\site-packages\\snowflake\\connector\\pandas_tools.py:300: FutureWarning: is_datetime64tz_dtype is deprecated and will be removed in a future version. Check `isinstance(dtype, pd.DatetimeTZDtype)` instead.\n",
      "  [pandas.api.types.is_datetime64tz_dtype(df[c]) for c in df.columns]\n"
     ]
    },
    {
     "data": {
      "text/plain": [
       "<snowflake.snowpark.table.Table at 0x1b4a83e0cd0>"
      ]
     },
     "execution_count": 21,
     "metadata": {},
     "output_type": "execute_result"
    }
   ],
   "source": [
    "credit_requests = pd.read_csv(r'C:\\Users\\Arti\\Documents\\GitHub\\ML-model-Credit-scoring-with-Snowpark-\\input files\\credit_request.csv')\n",
    "session.write_pandas(credit_requests,\"CREDIT_REQUESTS\",auto_create_table='True')"
   ]
  },
  {
   "cell_type": "code",
   "execution_count": 22,
   "metadata": {},
   "outputs": [
    {
     "data": {
      "text/plain": [
       "StructType([StructField('CREDIT_REQUEST_ID', LongType(), nullable=True), StructField('CREDIT_AMOUNT', LongType(), nullable=True), StructField('CREDIT_DURATION', LongType(), nullable=True), StructField('PURPOSE', StringType(16777216), nullable=True), StructField('INSTALLMENT_COMMITMENT', LongType(), nullable=True), StructField('OTHER_PARTIES', StringType(16777216), nullable=True), StructField('CREDIT_SCORE', LongType(), nullable=True), StructField('CHECKING_BALANCE', DoubleType(), nullable=True), StructField('SAVINGS_BALANCE', DoubleType(), nullable=True), StructField('EXISTING_CREDITS', LongType(), nullable=True), StructField('ASSETS', StringType(16777216), nullable=True), StructField('HOUSING', StringType(16777216), nullable=True), StructField('QUALIFICATION', StringType(16777216), nullable=True), StructField('JOB_HISTORY', LongType(), nullable=True), StructField('AGE', LongType(), nullable=True), StructField('SEX', StringType(16777216), nullable=True), StructField('MARITAL_STATUS', StringType(16777216), nullable=True), StructField('NUM_DEPENDENTS', LongType(), nullable=True), StructField('RESIDENCE_SINCE', LongType(), nullable=True), StructField('OTHER_PAYMENT_PLANS', StringType(16777216), nullable=True)])"
      ]
     },
     "execution_count": 22,
     "metadata": {},
     "output_type": "execute_result"
    }
   ],
   "source": [
    "credit_req_df = session.table(\"CREDIT_REQUESTS\")\n",
    "credit_req_df.schema"
   ]
  }
 ],
 "metadata": {
  "kernelspec": {
   "display_name": "Python 3",
   "language": "python",
   "name": "python3"
  },
  "language_info": {
   "codemirror_mode": {
    "name": "ipython",
    "version": 3
   },
   "file_extension": ".py",
   "mimetype": "text/x-python",
   "name": "python",
   "nbconvert_exporter": "python",
   "pygments_lexer": "ipython3",
   "version": "3.11.2"
  }
 },
 "nbformat": 4,
 "nbformat_minor": 2
}
